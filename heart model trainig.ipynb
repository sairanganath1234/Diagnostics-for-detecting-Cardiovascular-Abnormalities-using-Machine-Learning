{
 "cells": [
  {
   "cell_type": "code",
   "execution_count": 249,
   "id": "00465989",
   "metadata": {},
   "outputs": [],
   "source": [
    "import pandas as pd\n",
    "import numpy as np\n",
    "import matplotlib.pyplot as plt\n",
    "import seaborn as sns"
   ]
  },
  {
   "cell_type": "code",
   "execution_count": 250,
   "id": "094bde47",
   "metadata": {},
   "outputs": [],
   "source": [
    "data=pd.read_csv(\"C:\\\\Users\\\\saira\\\\OneDrive\\\\Desktop\\\\ipbl\\\\Others\\\\Heart-Disease-Prediction-Deployment-master\\\\heart.csv\")"
   ]
  },
  {
   "cell_type": "code",
   "execution_count": 251,
   "id": "19f328bd",
   "metadata": {},
   "outputs": [
    {
     "data": {
      "text/html": [
       "<div>\n",
       "<style scoped>\n",
       "    .dataframe tbody tr th:only-of-type {\n",
       "        vertical-align: middle;\n",
       "    }\n",
       "\n",
       "    .dataframe tbody tr th {\n",
       "        vertical-align: top;\n",
       "    }\n",
       "\n",
       "    .dataframe thead th {\n",
       "        text-align: right;\n",
       "    }\n",
       "</style>\n",
       "<table border=\"1\" class=\"dataframe\">\n",
       "  <thead>\n",
       "    <tr style=\"text-align: right;\">\n",
       "      <th></th>\n",
       "      <th>age</th>\n",
       "      <th>sex</th>\n",
       "      <th>cp</th>\n",
       "      <th>trestbps</th>\n",
       "      <th>chol</th>\n",
       "      <th>fbs</th>\n",
       "      <th>restecg</th>\n",
       "      <th>thalach</th>\n",
       "      <th>exang</th>\n",
       "      <th>oldpeak</th>\n",
       "      <th>slope</th>\n",
       "      <th>ca</th>\n",
       "      <th>thal</th>\n",
       "      <th>heartdisease</th>\n",
       "    </tr>\n",
       "  </thead>\n",
       "  <tbody>\n",
       "    <tr>\n",
       "      <th>0</th>\n",
       "      <td>69</td>\n",
       "      <td>1</td>\n",
       "      <td>0</td>\n",
       "      <td>160</td>\n",
       "      <td>234</td>\n",
       "      <td>1</td>\n",
       "      <td>2</td>\n",
       "      <td>131</td>\n",
       "      <td>0</td>\n",
       "      <td>0.1</td>\n",
       "      <td>1</td>\n",
       "      <td>1</td>\n",
       "      <td>0</td>\n",
       "      <td>0</td>\n",
       "    </tr>\n",
       "    <tr>\n",
       "      <th>1</th>\n",
       "      <td>69</td>\n",
       "      <td>0</td>\n",
       "      <td>0</td>\n",
       "      <td>140</td>\n",
       "      <td>239</td>\n",
       "      <td>0</td>\n",
       "      <td>0</td>\n",
       "      <td>151</td>\n",
       "      <td>0</td>\n",
       "      <td>1.8</td>\n",
       "      <td>0</td>\n",
       "      <td>2</td>\n",
       "      <td>0</td>\n",
       "      <td>0</td>\n",
       "    </tr>\n",
       "    <tr>\n",
       "      <th>2</th>\n",
       "      <td>66</td>\n",
       "      <td>0</td>\n",
       "      <td>0</td>\n",
       "      <td>150</td>\n",
       "      <td>226</td>\n",
       "      <td>0</td>\n",
       "      <td>0</td>\n",
       "      <td>114</td>\n",
       "      <td>0</td>\n",
       "      <td>2.6</td>\n",
       "      <td>2</td>\n",
       "      <td>0</td>\n",
       "      <td>0</td>\n",
       "      <td>0</td>\n",
       "    </tr>\n",
       "    <tr>\n",
       "      <th>3</th>\n",
       "      <td>65</td>\n",
       "      <td>1</td>\n",
       "      <td>0</td>\n",
       "      <td>138</td>\n",
       "      <td>282</td>\n",
       "      <td>1</td>\n",
       "      <td>2</td>\n",
       "      <td>174</td>\n",
       "      <td>0</td>\n",
       "      <td>1.4</td>\n",
       "      <td>1</td>\n",
       "      <td>1</td>\n",
       "      <td>0</td>\n",
       "      <td>1</td>\n",
       "    </tr>\n",
       "    <tr>\n",
       "      <th>4</th>\n",
       "      <td>64</td>\n",
       "      <td>1</td>\n",
       "      <td>0</td>\n",
       "      <td>110</td>\n",
       "      <td>211</td>\n",
       "      <td>0</td>\n",
       "      <td>2</td>\n",
       "      <td>144</td>\n",
       "      <td>1</td>\n",
       "      <td>1.8</td>\n",
       "      <td>1</td>\n",
       "      <td>0</td>\n",
       "      <td>0</td>\n",
       "      <td>0</td>\n",
       "    </tr>\n",
       "  </tbody>\n",
       "</table>\n",
       "</div>"
      ],
      "text/plain": [
       "   age  sex  cp  trestbps  chol  fbs  restecg  thalach  exang  oldpeak  slope  \\\n",
       "0   69    1   0       160   234    1        2      131      0      0.1      1   \n",
       "1   69    0   0       140   239    0        0      151      0      1.8      0   \n",
       "2   66    0   0       150   226    0        0      114      0      2.6      2   \n",
       "3   65    1   0       138   282    1        2      174      0      1.4      1   \n",
       "4   64    1   0       110   211    0        2      144      1      1.8      1   \n",
       "\n",
       "   ca  thal  heartdisease  \n",
       "0   1     0             0  \n",
       "1   2     0             0  \n",
       "2   0     0             0  \n",
       "3   1     0             1  \n",
       "4   0     0             0  "
      ]
     },
     "execution_count": 251,
     "metadata": {},
     "output_type": "execute_result"
    }
   ],
   "source": [
    "data.head()"
   ]
  },
  {
   "cell_type": "code",
   "execution_count": 252,
   "id": "f8370879",
   "metadata": {},
   "outputs": [
    {
     "data": {
      "text/plain": [
       "age             0\n",
       "sex             0\n",
       "cp              0\n",
       "trestbps        0\n",
       "chol            0\n",
       "fbs             0\n",
       "restecg         0\n",
       "thalach         0\n",
       "exang           0\n",
       "oldpeak         0\n",
       "slope           0\n",
       "ca              0\n",
       "thal            0\n",
       "heartdisease    0\n",
       "dtype: int64"
      ]
     },
     "execution_count": 252,
     "metadata": {},
     "output_type": "execute_result"
    }
   ],
   "source": [
    "data.isnull().sum()"
   ]
  },
  {
   "cell_type": "code",
   "execution_count": 253,
   "id": "63dcf966",
   "metadata": {},
   "outputs": [
    {
     "data": {
      "text/plain": [
       "<Axes: >"
      ]
     },
     "execution_count": 253,
     "metadata": {},
     "output_type": "execute_result"
    },
    {
     "data": {
      "image/png": "[encoded data removed]",
      "text/plain": [
       "<Figure size 1000x800 with 2 Axes>"
      ]
     },
     "metadata": {},
     "output_type": "display_data"
    }
   ],
   "source": [
    "plt.figure(figsize=(10,8))\n",
    "sns.heatmap(data.isnull(),cmap=\"viridis\")"
   ]
  },
  {
   "cell_type": "code",
   "execution_count": 254,
   "id": "8572f51a",
   "metadata": {},
   "outputs": [
    {
     "data": {
      "text/plain": [
       "(297, 14)"
      ]
     },
     "execution_count": 254,
     "metadata": {},
     "output_type": "execute_result"
    }
   ],
   "source": [
    "data.shape"
   ]
  },
  {
   "cell_type": "code",
   "execution_count": 255,
   "id": "876c7249",
   "metadata": {},
   "outputs": [
    {
     "name": "stdout",
     "output_type": "stream",
     "text": [
      "age\n",
      "58    18\n",
      "57    17\n",
      "54    16\n",
      "59    14\n",
      "60    12\n",
      "51    12\n",
      "56    11\n",
      "52    11\n",
      "44    11\n",
      "62    11\n",
      "64    10\n",
      "41    10\n",
      "63     9\n",
      "67     9\n",
      "61     8\n",
      "55     8\n",
      "45     8\n",
      "42     8\n",
      "65     8\n",
      "46     7\n",
      "48     7\n",
      "50     7\n",
      "43     7\n",
      "66     7\n",
      "53     7\n",
      "49     5\n",
      "47     5\n",
      "70     4\n",
      "68     4\n",
      "39     4\n",
      "35     4\n",
      "69     3\n",
      "71     3\n",
      "40     3\n",
      "34     2\n",
      "37     2\n",
      "76     1\n",
      "29     1\n",
      "74     1\n",
      "38     1\n",
      "77     1\n",
      "Name: count, dtype: int64\n",
      "\n",
      "\n",
      "sex\n",
      "1    201\n",
      "0     96\n",
      "Name: count, dtype: int64\n",
      "\n",
      "\n",
      "cp\n",
      "3    142\n",
      "2     83\n",
      "1     49\n",
      "0     23\n",
      "Name: count, dtype: int64\n",
      "\n",
      "\n",
      "trestbps\n",
      "120    37\n",
      "130    36\n",
      "140    32\n",
      "110    19\n",
      "150    17\n",
      "160    11\n",
      "128    10\n",
      "125    10\n",
      "138    10\n",
      "112     9\n",
      "118     7\n",
      "132     7\n",
      "108     6\n",
      "124     6\n",
      "135     6\n",
      "152     5\n",
      "145     5\n",
      "134     5\n",
      "100     4\n",
      "170     4\n",
      "122     4\n",
      "126     3\n",
      "142     3\n",
      "115     3\n",
      "180     3\n",
      "105     3\n",
      "136     3\n",
      "178     2\n",
      "146     2\n",
      "102     2\n",
      "148     2\n",
      "94      2\n",
      "144     2\n",
      "117     1\n",
      "123     1\n",
      "200     1\n",
      "165     1\n",
      "114     1\n",
      "164     1\n",
      "174     1\n",
      "158     1\n",
      "101     1\n",
      "106     1\n",
      "192     1\n",
      "129     1\n",
      "172     1\n",
      "155     1\n",
      "156     1\n",
      "154     1\n",
      "104     1\n",
      "Name: count, dtype: int64\n",
      "\n",
      "\n",
      "chol\n",
      "234    6\n",
      "197    6\n",
      "212    5\n",
      "269    5\n",
      "204    5\n",
      "      ..\n",
      "322    1\n",
      "237    1\n",
      "281    1\n",
      "195    1\n",
      "183    1\n",
      "Name: count, Length: 152, dtype: int64\n",
      "\n",
      "\n",
      "fbs\n",
      "0    254\n",
      "1     43\n",
      "Name: count, dtype: int64\n",
      "\n",
      "\n",
      "restecg\n",
      "0    147\n",
      "2    146\n",
      "1      4\n",
      "Name: count, dtype: int64\n",
      "\n",
      "\n",
      "thalach\n",
      "162    11\n",
      "163     9\n",
      "160     9\n",
      "152     8\n",
      "172     7\n",
      "       ..\n",
      "192     1\n",
      "202     1\n",
      "167     1\n",
      "97      1\n",
      "195     1\n",
      "Name: count, Length: 91, dtype: int64\n",
      "\n",
      "\n",
      "exang\n",
      "0    200\n",
      "1     97\n",
      "Name: count, dtype: int64\n",
      "\n",
      "\n",
      "oldpeak\n",
      "0.0    96\n",
      "1.2    17\n",
      "0.6    14\n",
      "1.4    13\n",
      "0.8    13\n",
      "1.0    13\n",
      "0.2    12\n",
      "1.6    11\n",
      "1.8    10\n",
      "2.0     9\n",
      "0.4     8\n",
      "0.1     6\n",
      "2.8     6\n",
      "2.6     6\n",
      "1.9     5\n",
      "0.5     5\n",
      "3.0     5\n",
      "1.5     5\n",
      "2.2     4\n",
      "3.6     4\n",
      "0.9     3\n",
      "4.0     3\n",
      "0.3     3\n",
      "2.4     3\n",
      "3.4     3\n",
      "1.1     2\n",
      "2.3     2\n",
      "2.5     2\n",
      "3.2     2\n",
      "4.2     2\n",
      "4.4     1\n",
      "5.6     1\n",
      "6.2     1\n",
      "2.1     1\n",
      "2.9     1\n",
      "3.5     1\n",
      "0.7     1\n",
      "1.3     1\n",
      "3.8     1\n",
      "3.1     1\n",
      "Name: count, dtype: int64\n",
      "\n",
      "\n",
      "slope\n",
      "0    139\n",
      "1    137\n",
      "2     21\n",
      "Name: count, dtype: int64\n",
      "\n",
      "\n",
      "ca\n",
      "0    174\n",
      "1     65\n",
      "2     38\n",
      "3     20\n",
      "Name: count, dtype: int64\n",
      "\n",
      "\n",
      "thal\n",
      "0    164\n",
      "2    115\n",
      "1     18\n",
      "Name: count, dtype: int64\n",
      "\n",
      "\n",
      "heartdisease\n",
      "0    160\n",
      "1    137\n",
      "Name: count, dtype: int64\n",
      "\n",
      "\n"
     ]
    }
   ],
   "source": [
    "for column in data.columns:\n",
    "    unique_counts = data[column].value_counts()\n",
    "    print(unique_counts)\n",
    "    print(\"\\n\")"
   ]
  },
  {
   "cell_type": "code",
   "execution_count": 256,
   "id": "4a5c3f8d",
   "metadata": {},
   "outputs": [
    {
     "data": {
      "image/png": "[encoded data removed]",
      "text/plain": [
       "<Figure size 1400x800 with 1 Axes>"
      ]
     },
     "metadata": {},
     "output_type": "display_data"
    }
   ],
   "source": [
    "attributes=['sex','cp','fbs','restecg','exang','slope','ca']\n",
    "plt.figure(figsize=(14, 8))\n",
    "sns.boxplot(data=data[attributes], showfliers=True)\n",
    "Q1 = data[attributes].quantile(0.25)\n",
    "Q3 = data[attributes].quantile(0.75)\n",
    "IQR = Q3 - Q1\n",
    "outliers = ((data[attributes] < (Q1 - 1.5 * IQR)) | (data[attributes] > (Q3 + 1.5 * IQR)))\n",
    "for i, attribute in enumerate(attributes):\n",
    "    outlier_points = data.loc[outliers[attribute], attribute]\n",
    "    plt.scatter(x=[i]*len(outlier_points),y=outlier_points,marker='x',color='red',s=100,label='Outliers' if i == 0 else '')\n",
    "plt.show()"
   ]
  },
  {
   "cell_type": "code",
   "execution_count": 257,
   "id": "1e9e995d",
   "metadata": {},
   "outputs": [
    {
     "name": "stdout",
     "output_type": "stream",
     "text": [
      "<class 'pandas.core.frame.DataFrame'>\n",
      "RangeIndex: 297 entries, 0 to 296\n",
      "Data columns (total 14 columns):\n",
      " #   Column        Non-Null Count  Dtype  \n",
      "---  ------        --------------  -----  \n",
      " 0   age           297 non-null    int64  \n",
      " 1   sex           297 non-null    int64  \n",
      " 2   cp            297 non-null    int64  \n",
      " 3   trestbps      297 non-null    int64  \n",
      " 4   chol          297 non-null    int64  \n",
      " 5   fbs           297 non-null    int64  \n",
      " 6   restecg       297 non-null    int64  \n",
      " 7   thalach       297 non-null    int64  \n",
      " 8   exang         297 non-null    int64  \n",
      " 9   oldpeak       297 non-null    float64\n",
      " 10  slope         297 non-null    int64  \n",
      " 11  ca            297 non-null    int64  \n",
      " 12  thal          297 non-null    int64  \n",
      " 13  heartdisease  297 non-null    int64  \n",
      "dtypes: float64(1), int64(13)\n",
      "memory usage: 32.6 KB\n"
     ]
    }
   ],
   "source": [
    "data.info()"
   ]
  },
  {
   "cell_type": "code",
   "execution_count": 258,
   "id": "8cafc549",
   "metadata": {},
   "outputs": [],
   "source": [
    "from sklearn.model_selection import train_test_split, cross_val_score, KFold\n",
    "from sklearn.metrics import accuracy_score, classification_report, confusion_matrix"
   ]
  },
  {
   "cell_type": "code",
   "execution_count": 259,
   "id": "58afc734",
   "metadata": {},
   "outputs": [],
   "source": [
    "y=data['heartdisease']\n",
    "x=data.drop('heartdisease',axis=1)"
   ]
  },
  {
   "cell_type": "markdown",
   "id": "bddf7aec",
   "metadata": {},
   "source": [
    "# train_test_split"
   ]
  },
  {
   "cell_type": "markdown",
   "id": "471810dc",
   "metadata": {},
   "source": [
    "# Logisitic regression"
   ]
  },
  {
   "cell_type": "code",
   "execution_count": 260,
   "id": "5c2c58a8",
   "metadata": {},
   "outputs": [
    {
     "name": "stdout",
     "output_type": "stream",
     "text": [
      "0.7333333333333333\n",
      "[[23  9]\n",
      " [ 7 21]]\n",
      "              precision    recall  f1-score   support\n",
      "\n",
      "           0       0.77      0.72      0.74        32\n",
      "           1       0.70      0.75      0.72        28\n",
      "\n",
      "    accuracy                           0.73        60\n",
      "   macro avg       0.73      0.73      0.73        60\n",
      "weighted avg       0.74      0.73      0.73        60\n",
      "\n"
     ]
    },
    {
     "name": "stderr",
     "output_type": "stream",
     "text": [
      "C:\\Users\\saira\\anaconda3\\Lib\\site-packages\\sklearn\\linear_model\\_logistic.py:460: ConvergenceWarning: lbfgs failed to converge (status=1):\n",
      "STOP: TOTAL NO. of ITERATIONS REACHED LIMIT.\n",
      "\n",
      "Increase the number of iterations (max_iter) or scale the data as shown in:\n",
      "    https://scikit-learn.org/stable/modules/preprocessing.html\n",
      "Please also refer to the documentation for alternative solver options:\n",
      "    https://scikit-learn.org/stable/modules/linear_model.html#logistic-regression\n",
      "  n_iter_i = _check_optimize_result(\n"
     ]
    }
   ],
   "source": [
    "x_train,x_test,y_train,y_test=train_test_split(x,y,test_size=0.20,random_state=42)\n",
    "from sklearn.linear_model import LogisticRegression\n",
    "lrmodel=LogisticRegression()\n",
    "lrmodel.fit(x_train,y_train)\n",
    "y_pred=lrmodel.predict(x_test)\n",
    "lracc1=accuracy_score(y_test,y_pred)\n",
    "cm=confusion_matrix(y_test, y_pred)\n",
    "cr=classification_report(y_test, y_pred)\n",
    "print(lracc1)\n",
    "print(cm)\n",
    "print(cr)"
   ]
  },
  {
   "cell_type": "code",
   "execution_count": 261,
   "id": "d87580c7",
   "metadata": {},
   "outputs": [
    {
     "name": "stdout",
     "output_type": "stream",
     "text": [
      "0.76\n",
      "[[28 10]\n",
      " [ 8 29]]\n",
      "              precision    recall  f1-score   support\n",
      "\n",
      "           0       0.78      0.74      0.76        38\n",
      "           1       0.74      0.78      0.76        37\n",
      "\n",
      "    accuracy                           0.76        75\n",
      "   macro avg       0.76      0.76      0.76        75\n",
      "weighted avg       0.76      0.76      0.76        75\n",
      "\n"
     ]
    },
    {
     "name": "stderr",
     "output_type": "stream",
     "text": [
      "C:\\Users\\saira\\anaconda3\\Lib\\site-packages\\sklearn\\linear_model\\_logistic.py:460: ConvergenceWarning: lbfgs failed to converge (status=1):\n",
      "STOP: TOTAL NO. of ITERATIONS REACHED LIMIT.\n",
      "\n",
      "Increase the number of iterations (max_iter) or scale the data as shown in:\n",
      "    https://scikit-learn.org/stable/modules/preprocessing.html\n",
      "Please also refer to the documentation for alternative solver options:\n",
      "    https://scikit-learn.org/stable/modules/linear_model.html#logistic-regression\n",
      "  n_iter_i = _check_optimize_result(\n"
     ]
    }
   ],
   "source": [
    "x_train,x_test,y_train,y_test=train_test_split(x,y,test_size=0.25,random_state=42)\n",
    "from sklearn.linear_model import LogisticRegression\n",
    "lrmodel=LogisticRegression()\n",
    "lrmodel.fit(x_train,y_train)\n",
    "y_pred=lrmodel.predict(x_test)\n",
    "lracc2=accuracy_score(y_test,y_pred)\n",
    "cm=confusion_matrix(y_test, y_pred)\n",
    "cr=classification_report(y_test, y_pred)\n",
    "print(lracc2)\n",
    "print(cm)\n",
    "print(cr)"
   ]
  },
  {
   "cell_type": "code",
   "execution_count": 262,
   "id": "bca2d9cf",
   "metadata": {},
   "outputs": [
    {
     "name": "stdout",
     "output_type": "stream",
     "text": [
      "0.8\n",
      "[[37 11]\n",
      " [ 7 35]]\n",
      "              precision    recall  f1-score   support\n",
      "\n",
      "           0       0.84      0.77      0.80        48\n",
      "           1       0.76      0.83      0.80        42\n",
      "\n",
      "    accuracy                           0.80        90\n",
      "   macro avg       0.80      0.80      0.80        90\n",
      "weighted avg       0.80      0.80      0.80        90\n",
      "\n"
     ]
    },
    {
     "name": "stderr",
     "output_type": "stream",
     "text": [
      "C:\\Users\\saira\\anaconda3\\Lib\\site-packages\\sklearn\\linear_model\\_logistic.py:460: ConvergenceWarning: lbfgs failed to converge (status=1):\n",
      "STOP: TOTAL NO. of ITERATIONS REACHED LIMIT.\n",
      "\n",
      "Increase the number of iterations (max_iter) or scale the data as shown in:\n",
      "    https://scikit-learn.org/stable/modules/preprocessing.html\n",
      "Please also refer to the documentation for alternative solver options:\n",
      "    https://scikit-learn.org/stable/modules/linear_model.html#logistic-regression\n",
      "  n_iter_i = _check_optimize_result(\n"
     ]
    }
   ],
   "source": [
    "x_train,x_test,y_train,y_test=train_test_split(x,y,test_size=0.30,random_state=42)\n",
    "from sklearn.linear_model import LogisticRegression\n",
    "lrmodel=LogisticRegression()\n",
    "lrmodel.fit(x_train,y_train)\n",
    "y_pred=lrmodel.predict(x_test)\n",
    "lracc3=accuracy_score(y_test,y_pred)\n",
    "cm=confusion_matrix(y_test, y_pred)\n",
    "cr=classification_report(y_test, y_pred)\n",
    "print(lracc3)\n",
    "print(cm)\n",
    "print(cr)"
   ]
  },
  {
   "cell_type": "code",
   "execution_count": 263,
   "id": "e36584ef",
   "metadata": {},
   "outputs": [
    {
     "name": "stdout",
     "output_type": "stream",
     "text": [
      "0.7333333333333333\n",
      "0.76\n",
      "0.8\n"
     ]
    }
   ],
   "source": [
    "print(lracc1)\n",
    "print(lracc2)\n",
    "print(lracc3)"
   ]
  },
  {
   "cell_type": "code",
   "execution_count": 264,
   "id": "e1a8bd05",
   "metadata": {},
   "outputs": [
    {
     "data": {
      "image/png": "[encoded data removed]",
      "text/plain": [
       "<Figure size 1000x600 with 1 Axes>"
      ]
     },
     "metadata": {},
     "output_type": "display_data"
    }
   ],
   "source": [
    "splits=['80-20 Split', '75-25 Split', '70-30 Split']\n",
    "accuracies=[lracc1,lracc2,lracc3]\n",
    "plt.figure(figsize=(10, 6))\n",
    "plt.bar(splits, accuracies)\n",
    "plt.title('Accuracy of Different Train-Test Splits for Logistic-Regression')\n",
    "plt.ylabel('Accuracy')\n",
    "plt.show()"
   ]
  },
  {
   "cell_type": "code",
   "execution_count": 265,
   "id": "8a525fdc",
   "metadata": {},
   "outputs": [
    {
     "name": "stdout",
     "output_type": "stream",
     "text": [
      "0.8\n"
     ]
    }
   ],
   "source": [
    "acc1=max(lracc1,lracc2,lracc3)\n",
    "print(acc1)"
   ]
  },
  {
   "cell_type": "markdown",
   "id": "a20a17f3",
   "metadata": {},
   "source": [
    "# decision tree"
   ]
  },
  {
   "cell_type": "code",
   "execution_count": 266,
   "id": "4db3e542",
   "metadata": {},
   "outputs": [
    {
     "name": "stdout",
     "output_type": "stream",
     "text": [
      "0.7\n",
      "[[22 10]\n",
      " [ 8 20]]\n",
      "              precision    recall  f1-score   support\n",
      "\n",
      "           0       0.73      0.69      0.71        32\n",
      "           1       0.67      0.71      0.69        28\n",
      "\n",
      "    accuracy                           0.70        60\n",
      "   macro avg       0.70      0.70      0.70        60\n",
      "weighted avg       0.70      0.70      0.70        60\n",
      "\n"
     ]
    }
   ],
   "source": [
    "x_train,x_test,y_train,y_test=train_test_split(x,y,test_size=0.20,random_state=42)\n",
    "from sklearn.tree import DecisionTreeClassifier\n",
    "dtmodel=DecisionTreeClassifier()\n",
    "dtmodel.fit(x_train,y_train)\n",
    "y_pred=dtmodel.predict(x_test)\n",
    "dtacc1=accuracy_score(y_test,y_pred)\n",
    "cm=confusion_matrix(y_test, y_pred)\n",
    "cr=classification_report(y_test, y_pred)\n",
    "print(dtacc1)\n",
    "print(cm)\n",
    "print(cr)"
   ]
  },
  {
   "cell_type": "code",
   "execution_count": 267,
   "id": "6a4e87a1",
   "metadata": {},
   "outputs": [
    {
     "name": "stdout",
     "output_type": "stream",
     "text": [
      "0.6933333333333334\n",
      "[[23 15]\n",
      " [ 8 29]]\n",
      "              precision    recall  f1-score   support\n",
      "\n",
      "           0       0.74      0.61      0.67        38\n",
      "           1       0.66      0.78      0.72        37\n",
      "\n",
      "    accuracy                           0.69        75\n",
      "   macro avg       0.70      0.69      0.69        75\n",
      "weighted avg       0.70      0.69      0.69        75\n",
      "\n"
     ]
    }
   ],
   "source": [
    "x_train,x_test,y_train,y_test=train_test_split(x,y,test_size=0.25,random_state=42)\n",
    "from sklearn.tree import DecisionTreeClassifier\n",
    "dtmodel=DecisionTreeClassifier()\n",
    "dtmodel.fit(x_train,y_train)\n",
    "y_pred=dtmodel.predict(x_test)\n",
    "dtacc2=accuracy_score(y_test,y_pred)\n",
    "cm=confusion_matrix(y_test, y_pred)\n",
    "cr=classification_report(y_test, y_pred)\n",
    "print(dtacc2)\n",
    "print(cm)\n",
    "print(cr)"
   ]
  },
  {
   "cell_type": "code",
   "execution_count": 268,
   "id": "a60e00d2",
   "metadata": {},
   "outputs": [
    {
     "name": "stdout",
     "output_type": "stream",
     "text": [
      "0.7222222222222222\n",
      "[[32 16]\n",
      " [ 9 33]]\n",
      "              precision    recall  f1-score   support\n",
      "\n",
      "           0       0.78      0.67      0.72        48\n",
      "           1       0.67      0.79      0.73        42\n",
      "\n",
      "    accuracy                           0.72        90\n",
      "   macro avg       0.73      0.73      0.72        90\n",
      "weighted avg       0.73      0.72      0.72        90\n",
      "\n"
     ]
    }
   ],
   "source": [
    "x_train,x_test,y_train,y_test=train_test_split(x,y,test_size=0.30,random_state=42)\n",
    "from sklearn.tree import DecisionTreeClassifier\n",
    "dtmodel=DecisionTreeClassifier()\n",
    "dtmodel.fit(x_train,y_train)\n",
    "y_pred=dtmodel.predict(x_test)\n",
    "dtacc3=accuracy_score(y_test,y_pred)\n",
    "cm=confusion_matrix(y_test, y_pred)\n",
    "cr=classification_report(y_test, y_pred)\n",
    "print(dtacc3)\n",
    "print(cm)\n",
    "print(cr)"
   ]
  },
  {
   "cell_type": "code",
   "execution_count": 269,
   "id": "d815a60f",
   "metadata": {},
   "outputs": [
    {
     "name": "stdout",
     "output_type": "stream",
     "text": [
      "0.7\n",
      "0.6933333333333334\n",
      "0.7222222222222222\n"
     ]
    }
   ],
   "source": [
    "print(dtacc1)\n",
    "print(dtacc2)\n",
    "print(dtacc3)"
   ]
  },
  {
   "cell_type": "code",
   "execution_count": 270,
   "id": "ecf1520f",
   "metadata": {},
   "outputs": [
    {
     "data": {
      "image/png": "[encoded data removed]",
      "text/plain": [
       "<Figure size 1000x600 with 1 Axes>"
      ]
     },
     "metadata": {},
     "output_type": "display_data"
    }
   ],
   "source": [
    "splits=['80-20 Split', '75-25 Split', '70-30 Split']\n",
    "accuracies=[dtacc1,dtacc2,dtacc3]\n",
    "plt.figure(figsize=(10, 6))\n",
    "plt.bar(splits, accuracies)\n",
    "plt.title('Accuracy of Different Train-Test Splits for Decision Tree Classifier')\n",
    "plt.ylabel('Accuracy')\n",
    "plt.show()"
   ]
  },
  {
   "cell_type": "code",
   "execution_count": 271,
   "id": "cdda76f1",
   "metadata": {},
   "outputs": [
    {
     "name": "stdout",
     "output_type": "stream",
     "text": [
      "0.7222222222222222\n"
     ]
    }
   ],
   "source": [
    "acc2=max(dtacc1,dtacc2,dtacc3)\n",
    "print(acc2)"
   ]
  },
  {
   "cell_type": "markdown",
   "id": "b69c2aaf",
   "metadata": {},
   "source": [
    "# random forest"
   ]
  },
  {
   "cell_type": "code",
   "execution_count": 272,
   "id": "05b9a1fd",
   "metadata": {},
   "outputs": [
    {
     "name": "stdout",
     "output_type": "stream",
     "text": [
      "0.75\n",
      "[[24  8]\n",
      " [ 7 21]]\n",
      "              precision    recall  f1-score   support\n",
      "\n",
      "           0       0.77      0.75      0.76        32\n",
      "           1       0.72      0.75      0.74        28\n",
      "\n",
      "    accuracy                           0.75        60\n",
      "   macro avg       0.75      0.75      0.75        60\n",
      "weighted avg       0.75      0.75      0.75        60\n",
      "\n"
     ]
    }
   ],
   "source": [
    "x_train,x_test,y_train,y_test=train_test_split(x,y,test_size=0.2,random_state=42)\n",
    "from sklearn.ensemble import RandomForestClassifier\n",
    "rfmodel1=RandomForestClassifier()\n",
    "rfmodel1.fit(x_train,y_train)\n",
    "y_pred=rfmodel1.predict(x_test)\n",
    "rfacc1=accuracy_score(y_test,y_pred)\n",
    "cm=confusion_matrix(y_test, y_pred)\n",
    "cr=classification_report(y_test, y_pred)\n",
    "print(rfacc1)\n",
    "print(cm)\n",
    "print(cr)"
   ]
  },
  {
   "cell_type": "code",
   "execution_count": 273,
   "id": "54d4cf4f",
   "metadata": {},
   "outputs": [
    {
     "name": "stdout",
     "output_type": "stream",
     "text": [
      "0.8133333333333334\n",
      "[[31  7]\n",
      " [ 7 30]]\n",
      "              precision    recall  f1-score   support\n",
      "\n",
      "           0       0.82      0.82      0.82        38\n",
      "           1       0.81      0.81      0.81        37\n",
      "\n",
      "    accuracy                           0.81        75\n",
      "   macro avg       0.81      0.81      0.81        75\n",
      "weighted avg       0.81      0.81      0.81        75\n",
      "\n"
     ]
    }
   ],
   "source": [
    "x_train,x_test,y_train,y_test=train_test_split(x,y,test_size=0.25,random_state=42)\n",
    "from sklearn.ensemble import RandomForestClassifier\n",
    "rfmodel2=RandomForestClassifier()\n",
    "rfmodel2.fit(x_train,y_train)\n",
    "y_pred=rfmodel2.predict(x_test)\n",
    "rfacc2=accuracy_score(y_test,y_pred)\n",
    "cm=confusion_matrix(y_test, y_pred)\n",
    "cr=classification_report(y_test, y_pred)\n",
    "print(rfacc2)\n",
    "print(cm)\n",
    "print(cr)"
   ]
  },
  {
   "cell_type": "code",
   "execution_count": 274,
   "id": "6b12dda9",
   "metadata": {},
   "outputs": [
    {
     "name": "stdout",
     "output_type": "stream",
     "text": [
      "0.8222222222222222\n",
      "[[40  8]\n",
      " [ 8 34]]\n",
      "              precision    recall  f1-score   support\n",
      "\n",
      "           0       0.83      0.83      0.83        48\n",
      "           1       0.81      0.81      0.81        42\n",
      "\n",
      "    accuracy                           0.82        90\n",
      "   macro avg       0.82      0.82      0.82        90\n",
      "weighted avg       0.82      0.82      0.82        90\n",
      "\n"
     ]
    }
   ],
   "source": [
    "x_train,x_test,y_train,y_test=train_test_split(x,y,test_size=0.3,random_state=42)\n",
    "from sklearn.ensemble import RandomForestClassifier\n",
    "rfmodel3=RandomForestClassifier()\n",
    "rfmodel3.fit(x_train,y_train)\n",
    "y_pred=rfmodel3.predict(x_test)\n",
    "rfacc3=accuracy_score(y_test,y_pred)\n",
    "cm=confusion_matrix(y_test, y_pred)\n",
    "cr=classification_report(y_test, y_pred)\n",
    "print(rfacc3)\n",
    "print(cm)\n",
    "print(cr)"
   ]
  },
  {
   "cell_type": "code",
   "execution_count": 275,
   "id": "66dd05d1",
   "metadata": {},
   "outputs": [
    {
     "data": {
      "image/png": "[encoded data removed]",
      "text/plain": [
       "<Figure size 1000x600 with 1 Axes>"
      ]
     },
     "metadata": {},
     "output_type": "display_data"
    }
   ],
   "source": [
    "splits=['80-20 Split', '75-25 Split', '70-30 Split']\n",
    "accuracies=[rfacc1,rfacc2,rfacc3]\n",
    "plt.figure(figsize=(10, 6))\n",
    "plt.bar(splits, accuracies)\n",
    "plt.title('Accuracy of Different Train-Test Splits for Random Forest Classifier')\n",
    "plt.ylabel('Accuracy')\n",
    "plt.show()"
   ]
  },
  {
   "cell_type": "code",
   "execution_count": 276,
   "id": "4e80454a",
   "metadata": {},
   "outputs": [
    {
     "name": "stdout",
     "output_type": "stream",
     "text": [
      "Predictions for the Unseen data:\n",
      "[0]\n"
     ]
    },
    {
     "name": "stderr",
     "output_type": "stream",
     "text": [
      "C:\\Users\\saira\\anaconda3\\Lib\\site-packages\\sklearn\\base.py:464: UserWarning: X does not have valid feature names, but RandomForestClassifier was fitted with feature names\n",
      "  warnings.warn(\n"
     ]
    }
   ],
   "source": [
    "new_data=[[69,1,0,160,234,1,2,131,0,0.1,1,1,0]]\n",
    "new_predictions=rfmodel3.predict(new_data)\n",
    "print('Predictions for the Unseen data:')\n",
    "print(new_predictions)"
   ]
  },
  {
   "cell_type": "code",
   "execution_count": 277,
   "id": "b0dda78b",
   "metadata": {},
   "outputs": [
    {
     "name": "stdout",
     "output_type": "stream",
     "text": [
      "Predictions for the Unseen data:\n",
      "[1]\n"
     ]
    },
    {
     "name": "stderr",
     "output_type": "stream",
     "text": [
      "C:\\Users\\saira\\anaconda3\\Lib\\site-packages\\sklearn\\base.py:464: UserWarning: X does not have valid feature names, but RandomForestClassifier was fitted with feature names\n",
      "  warnings.warn(\n"
     ]
    }
   ],
   "source": [
    "new_data=[[66,0,0,138,282,1,2,174,0,1.4,1,1,0]]\n",
    "new_predictions=rfmodel3.predict(new_data)\n",
    "print('Predictions for the Unseen data:')\n",
    "print(new_predictions)"
   ]
  },
  {
   "cell_type": "code",
   "execution_count": 278,
   "id": "38aa02c1",
   "metadata": {},
   "outputs": [
    {
     "name": "stdout",
     "output_type": "stream",
     "text": [
      "0.75\n",
      "0.8133333333333334\n",
      "0.8222222222222222\n"
     ]
    }
   ],
   "source": [
    "print(rfacc1)\n",
    "print(rfacc2)\n",
    "print(rfacc3)"
   ]
  },
  {
   "cell_type": "code",
   "execution_count": 279,
   "id": "d1d3db6e",
   "metadata": {},
   "outputs": [
    {
     "name": "stdout",
     "output_type": "stream",
     "text": [
      "0.8222222222222222\n"
     ]
    }
   ],
   "source": [
    "acc3=max(rfacc1,rfacc2,rfacc3)\n",
    "print(acc3)"
   ]
  },
  {
   "cell_type": "markdown",
   "id": "63e565bf",
   "metadata": {},
   "source": [
    "# knn"
   ]
  },
  {
   "cell_type": "code",
   "execution_count": 280,
   "id": "5a1c0990",
   "metadata": {},
   "outputs": [
    {
     "name": "stdout",
     "output_type": "stream",
     "text": [
      "0.5666666666666667\n",
      "[[20 12]\n",
      " [14 14]]\n",
      "              precision    recall  f1-score   support\n",
      "\n",
      "           0       0.59      0.62      0.61        32\n",
      "           1       0.54      0.50      0.52        28\n",
      "\n",
      "    accuracy                           0.57        60\n",
      "   macro avg       0.56      0.56      0.56        60\n",
      "weighted avg       0.57      0.57      0.57        60\n",
      "\n"
     ]
    }
   ],
   "source": [
    "x_train,x_test,y_train,y_test=train_test_split(x,y,test_size=0.2,random_state=42)\n",
    "from sklearn.neighbors import KNeighborsClassifier\n",
    "knmodel=KNeighborsClassifier(n_neighbors=5)\n",
    "knmodel.fit(x_train,y_train)\n",
    "y_pred=knmodel.predict(x_test)\n",
    "knacc1=accuracy_score(y_test,y_pred)\n",
    "cm=confusion_matrix(y_test, y_pred)\n",
    "cr=classification_report(y_test, y_pred)\n",
    "print(knacc1)\n",
    "print(cm)\n",
    "print(cr)"
   ]
  },
  {
   "cell_type": "code",
   "execution_count": 281,
   "id": "84e52cd5",
   "metadata": {},
   "outputs": [
    {
     "name": "stdout",
     "output_type": "stream",
     "text": [
      "0.56\n",
      "[[25 13]\n",
      " [20 17]]\n",
      "              precision    recall  f1-score   support\n",
      "\n",
      "           0       0.56      0.66      0.60        38\n",
      "           1       0.57      0.46      0.51        37\n",
      "\n",
      "    accuracy                           0.56        75\n",
      "   macro avg       0.56      0.56      0.55        75\n",
      "weighted avg       0.56      0.56      0.56        75\n",
      "\n"
     ]
    }
   ],
   "source": [
    "x_train,x_test,y_train,y_test=train_test_split(x,y,test_size=0.25,random_state=42)\n",
    "from sklearn.neighbors import KNeighborsClassifier\n",
    "knmodel=KNeighborsClassifier(n_neighbors=5)\n",
    "knmodel.fit(x_train,y_train)\n",
    "y_pred=knmodel.predict(x_test)\n",
    "knacc2=accuracy_score(y_test,y_pred)\n",
    "cm=confusion_matrix(y_test, y_pred)\n",
    "cr=classification_report(y_test, y_pred)\n",
    "print(knacc2)\n",
    "print(cm)\n",
    "print(cr)"
   ]
  },
  {
   "cell_type": "code",
   "execution_count": 282,
   "id": "33b485c7",
   "metadata": {},
   "outputs": [
    {
     "name": "stdout",
     "output_type": "stream",
     "text": [
      "0.5888888888888889\n",
      "[[33 15]\n",
      " [22 20]]\n",
      "              precision    recall  f1-score   support\n",
      "\n",
      "           0       0.60      0.69      0.64        48\n",
      "           1       0.57      0.48      0.52        42\n",
      "\n",
      "    accuracy                           0.59        90\n",
      "   macro avg       0.59      0.58      0.58        90\n",
      "weighted avg       0.59      0.59      0.58        90\n",
      "\n"
     ]
    }
   ],
   "source": [
    "x_train,x_test,y_train,y_test=train_test_split(x,y,test_size=0.3,random_state=42)\n",
    "from sklearn.neighbors import KNeighborsClassifier\n",
    "knmodel=KNeighborsClassifier(n_neighbors=5)\n",
    "knmodel.fit(x_train,y_train)\n",
    "y_pred=knmodel.predict(x_test)\n",
    "knacc3=accuracy_score(y_test,y_pred)\n",
    "cm=confusion_matrix(y_test, y_pred)\n",
    "cr=classification_report(y_test, y_pred)\n",
    "print(knacc3)\n",
    "print(cm)\n",
    "print(cr)"
   ]
  },
  {
   "cell_type": "code",
   "execution_count": 283,
   "id": "47cee85c",
   "metadata": {},
   "outputs": [
    {
     "data": {
      "image/png": "[encoded data removed]",
      "text/plain": [
       "<Figure size 1000x600 with 1 Axes>"
      ]
     },
     "metadata": {},
     "output_type": "display_data"
    }
   ],
   "source": [
    "splits=['80-20 Split', '75-25 Split', '70-30 Split']\n",
    "accuracies=[knacc1,knacc2,knacc3]\n",
    "plt.figure(figsize=(10, 6))\n",
    "plt.bar(splits, accuracies)\n",
    "plt.title('Accuracy of Different Train-Test Splits for KNN Classifier')\n",
    "plt.ylabel('Accuracy')\n",
    "plt.show()"
   ]
  },
  {
   "cell_type": "code",
   "execution_count": 284,
   "id": "a9183fc9",
   "metadata": {},
   "outputs": [
    {
     "name": "stdout",
     "output_type": "stream",
     "text": [
      "0.5666666666666667\n",
      "0.56\n",
      "0.5888888888888889\n"
     ]
    }
   ],
   "source": [
    "print(knacc1)\n",
    "print(knacc2)\n",
    "print(knacc3)"
   ]
  },
  {
   "cell_type": "code",
   "execution_count": 285,
   "id": "117e748e",
   "metadata": {},
   "outputs": [
    {
     "name": "stdout",
     "output_type": "stream",
     "text": [
      "0.5888888888888889\n"
     ]
    }
   ],
   "source": [
    "acc4=max(knacc1,knacc2,knacc3)\n",
    "print(acc4)"
   ]
  },
  {
   "cell_type": "markdown",
   "id": "335ebde0",
   "metadata": {},
   "source": [
    "# Naive Bayes"
   ]
  },
  {
   "cell_type": "code",
   "execution_count": 286,
   "id": "c81fd959",
   "metadata": {},
   "outputs": [
    {
     "name": "stdout",
     "output_type": "stream",
     "text": [
      "0.7666666666666667\n",
      "[[22 10]\n",
      " [ 4 24]]\n",
      "              precision    recall  f1-score   support\n",
      "\n",
      "           0       0.85      0.69      0.76        32\n",
      "           1       0.71      0.86      0.77        28\n",
      "\n",
      "    accuracy                           0.77        60\n",
      "   macro avg       0.78      0.77      0.77        60\n",
      "weighted avg       0.78      0.77      0.77        60\n",
      "\n"
     ]
    }
   ],
   "source": [
    "x_train,x_test,y_train,y_test=train_test_split(x,y,test_size=0.2,random_state=42)\n",
    "from sklearn.naive_bayes import GaussianNB\n",
    "nbmodel=GaussianNB()\n",
    "nbmodel.fit(x_train,y_train)\n",
    "y_pred=nbmodel.predict(x_test)\n",
    "nbacc1=accuracy_score(y_test,y_pred)\n",
    "cm=confusion_matrix(y_test, y_pred)\n",
    "cr=classification_report(y_test, y_pred)\n",
    "print(nbacc1)\n",
    "print(cm)\n",
    "print(cr)"
   ]
  },
  {
   "cell_type": "code",
   "execution_count": 287,
   "id": "a05b855d",
   "metadata": {},
   "outputs": [
    {
     "name": "stdout",
     "output_type": "stream",
     "text": [
      "0.7866666666666666\n",
      "[[27 11]\n",
      " [ 5 32]]\n",
      "              precision    recall  f1-score   support\n",
      "\n",
      "           0       0.84      0.71      0.77        38\n",
      "           1       0.74      0.86      0.80        37\n",
      "\n",
      "    accuracy                           0.79        75\n",
      "   macro avg       0.79      0.79      0.79        75\n",
      "weighted avg       0.79      0.79      0.79        75\n",
      "\n"
     ]
    }
   ],
   "source": [
    "x_train,x_test,y_train,y_test=train_test_split(x,y,test_size=0.25,random_state=42)\n",
    "from sklearn.naive_bayes import GaussianNB\n",
    "nbmodel=GaussianNB()\n",
    "nbmodel.fit(x_train,y_train)\n",
    "y_pred=nbmodel.predict(x_test)\n",
    "nbacc2=accuracy_score(y_test,y_pred)\n",
    "cm=confusion_matrix(y_test, y_pred)\n",
    "cr=classification_report(y_test, y_pred)\n",
    "print(nbacc2)\n",
    "print(cm)\n",
    "print(cr)"
   ]
  },
  {
   "cell_type": "code",
   "execution_count": 288,
   "id": "58e00dc2",
   "metadata": {},
   "outputs": [
    {
     "name": "stdout",
     "output_type": "stream",
     "text": [
      "0.8\n",
      "[[37 11]\n",
      " [ 7 35]]\n",
      "              precision    recall  f1-score   support\n",
      "\n",
      "           0       0.84      0.77      0.80        48\n",
      "           1       0.76      0.83      0.80        42\n",
      "\n",
      "    accuracy                           0.80        90\n",
      "   macro avg       0.80      0.80      0.80        90\n",
      "weighted avg       0.80      0.80      0.80        90\n",
      "\n"
     ]
    }
   ],
   "source": [
    "x_train,x_test,y_train,y_test=train_test_split(x,y,test_size=0.3,random_state=42)\n",
    "from sklearn.naive_bayes import GaussianNB\n",
    "nbmodel=GaussianNB()\n",
    "nbmodel.fit(x_train,y_train)\n",
    "y_pred=nbmodel.predict(x_test)\n",
    "nbacc3=accuracy_score(y_test,y_pred)\n",
    "cm=confusion_matrix(y_test, y_pred)\n",
    "cr=classification_report(y_test, y_pred)\n",
    "print(nbacc3)\n",
    "print(cm)\n",
    "print(cr)"
   ]
  },
  {
   "cell_type": "code",
   "execution_count": 289,
   "id": "04f4e3d3",
   "metadata": {},
   "outputs": [
    {
     "name": "stdout",
     "output_type": "stream",
     "text": [
      "0.7666666666666667\n",
      "0.7866666666666666\n",
      "0.8\n"
     ]
    }
   ],
   "source": [
    "print(nbacc1)\n",
    "print(nbacc2)\n",
    "print(nbacc3)"
   ]
  },
  {
   "cell_type": "code",
   "execution_count": 290,
   "id": "8791155a",
   "metadata": {},
   "outputs": [
    {
     "data": {
      "image/png": "[encoded data removed]",
      "text/plain": [
       "<Figure size 1000x600 with 1 Axes>"
      ]
     },
     "metadata": {},
     "output_type": "display_data"
    }
   ],
   "source": [
    "splits=['80-20 Split', '75-25 Split', '70-30 Split']\n",
    "accuracies=[nbacc1,nbacc2,nbacc3]\n",
    "plt.figure(figsize=(10, 6))\n",
    "plt.bar(splits, accuracies)\n",
    "plt.title('Accuracy of Different Train-Test Splits for Naive Bayes')\n",
    "plt.ylabel('Accuracy')\n",
    "plt.show()"
   ]
  },
  {
   "cell_type": "code",
   "execution_count": 291,
   "id": "172f5fb1",
   "metadata": {},
   "outputs": [
    {
     "name": "stdout",
     "output_type": "stream",
     "text": [
      "0.8\n"
     ]
    }
   ],
   "source": [
    "acc5=max(nbacc1,nbacc2,nbacc3)\n",
    "print(acc5)"
   ]
  },
  {
   "cell_type": "markdown",
   "id": "0c6f39f5",
   "metadata": {},
   "source": [
    "# Ada Boost\n"
   ]
  },
  {
   "cell_type": "code",
   "execution_count": 292,
   "id": "78b7db3e",
   "metadata": {},
   "outputs": [
    {
     "name": "stderr",
     "output_type": "stream",
     "text": [
      "C:\\Users\\saira\\anaconda3\\Lib\\site-packages\\sklearn\\ensemble\\_base.py:156: FutureWarning: `base_estimator` was renamed to `estimator` in version 1.2 and will be removed in 1.4.\n",
      "  warnings.warn(\n"
     ]
    },
    {
     "name": "stdout",
     "output_type": "stream",
     "text": [
      "0.7\n",
      "[[22 10]\n",
      " [ 8 20]]\n",
      "              precision    recall  f1-score   support\n",
      "\n",
      "           0       0.73      0.69      0.71        32\n",
      "           1       0.67      0.71      0.69        28\n",
      "\n",
      "    accuracy                           0.70        60\n",
      "   macro avg       0.70      0.70      0.70        60\n",
      "weighted avg       0.70      0.70      0.70        60\n",
      "\n"
     ]
    }
   ],
   "source": [
    "x_train, x_test, y_train, y_test = train_test_split(x, y, test_size=0.2, random_state=42)\n",
    "from sklearn.ensemble import AdaBoostClassifier\n",
    "base_estimator = DecisionTreeClassifier(max_depth=1) \n",
    "model = AdaBoostClassifier(base_estimator=base_estimator, n_estimators=50, learning_rate=1.0)\n",
    "model.fit(x_train, y_train)\n",
    "y_pred = model.predict(x_test)\n",
    "abacc1=accuracy_score(y_test,y_pred)\n",
    "cm=confusion_matrix(y_test, y_pred)\n",
    "cr=classification_report(y_test, y_pred)\n",
    "print(abacc1)\n",
    "print(cm)\n",
    "print(cr)"
   ]
  },
  {
   "cell_type": "code",
   "execution_count": 293,
   "id": "34a6a9f4",
   "metadata": {},
   "outputs": [
    {
     "name": "stderr",
     "output_type": "stream",
     "text": [
      "C:\\Users\\saira\\anaconda3\\Lib\\site-packages\\sklearn\\ensemble\\_base.py:156: FutureWarning: `base_estimator` was renamed to `estimator` in version 1.2 and will be removed in 1.4.\n",
      "  warnings.warn(\n"
     ]
    },
    {
     "name": "stdout",
     "output_type": "stream",
     "text": [
      "0.7466666666666667\n",
      "[[28 10]\n",
      " [ 9 28]]\n",
      "              precision    recall  f1-score   support\n",
      "\n",
      "           0       0.76      0.74      0.75        38\n",
      "           1       0.74      0.76      0.75        37\n",
      "\n",
      "    accuracy                           0.75        75\n",
      "   macro avg       0.75      0.75      0.75        75\n",
      "weighted avg       0.75      0.75      0.75        75\n",
      "\n"
     ]
    }
   ],
   "source": [
    "x_train, x_test, y_train, y_test = train_test_split(x, y, test_size=0.25, random_state=42)\n",
    "from sklearn.ensemble import AdaBoostClassifier\n",
    "base_estimator = DecisionTreeClassifier(max_depth=1) \n",
    "model = AdaBoostClassifier(base_estimator=base_estimator, n_estimators=50, learning_rate=1.0)\n",
    "model.fit(x_train, y_train)\n",
    "y_pred = model.predict(x_test)\n",
    "abacc2=accuracy_score(y_test,y_pred)\n",
    "cm=confusion_matrix(y_test, y_pred)\n",
    "cr=classification_report(y_test, y_pred)\n",
    "print(abacc2)\n",
    "print(cm)\n",
    "print(cr)"
   ]
  },
  {
   "cell_type": "code",
   "execution_count": 294,
   "id": "97b91698",
   "metadata": {},
   "outputs": [
    {
     "name": "stderr",
     "output_type": "stream",
     "text": [
      "C:\\Users\\saira\\anaconda3\\Lib\\site-packages\\sklearn\\ensemble\\_base.py:156: FutureWarning: `base_estimator` was renamed to `estimator` in version 1.2 and will be removed in 1.4.\n",
      "  warnings.warn(\n"
     ]
    },
    {
     "name": "stdout",
     "output_type": "stream",
     "text": [
      "0.8111111111111111\n",
      "[[41  7]\n",
      " [10 32]]\n",
      "              precision    recall  f1-score   support\n",
      "\n",
      "           0       0.80      0.85      0.83        48\n",
      "           1       0.82      0.76      0.79        42\n",
      "\n",
      "    accuracy                           0.81        90\n",
      "   macro avg       0.81      0.81      0.81        90\n",
      "weighted avg       0.81      0.81      0.81        90\n",
      "\n"
     ]
    }
   ],
   "source": [
    "x_train, x_test, y_train, y_test = train_test_split(x, y, test_size=0.3, random_state=42)\n",
    "from sklearn.ensemble import AdaBoostClassifier\n",
    "base_estimator = DecisionTreeClassifier(max_depth=1) \n",
    "model = AdaBoostClassifier(base_estimator=base_estimator, n_estimators=50, learning_rate=1.0)\n",
    "model.fit(x_train, y_train)\n",
    "y_pred = model.predict(x_test)\n",
    "abacc3=accuracy_score(y_test,y_pred)\n",
    "cm=confusion_matrix(y_test, y_pred)\n",
    "cr=classification_report(y_test, y_pred)\n",
    "print(abacc3)\n",
    "print(cm)\n",
    "print(cr)"
   ]
  },
  {
   "cell_type": "code",
   "execution_count": 295,
   "id": "e6cc9e11",
   "metadata": {},
   "outputs": [
    {
     "name": "stdout",
     "output_type": "stream",
     "text": [
      "0.7\n",
      "0.7466666666666667\n",
      "0.8111111111111111\n"
     ]
    }
   ],
   "source": [
    "print(abacc1)\n",
    "print(abacc2)\n",
    "print(abacc3)"
   ]
  },
  {
   "cell_type": "code",
   "execution_count": 296,
   "id": "a607f251",
   "metadata": {},
   "outputs": [
    {
     "data": {
      "image/png": "[encoded data removed]",
      "text/plain": [
       "<Figure size 1000x600 with 1 Axes>"
      ]
     },
     "metadata": {},
     "output_type": "display_data"
    }
   ],
   "source": [
    "splits=['80-20 Split', '75-25 Split', '70-30 Split']\n",
    "accuracies=[abacc1,abacc2,abacc3]\n",
    "plt.figure(figsize=(10, 6))\n",
    "plt.bar(splits, accuracies)\n",
    "plt.title('Accuracy of Different Train-Test Splits for ada')\n",
    "plt.ylabel('Accuracy')\n",
    "plt.show()"
   ]
  },
  {
   "cell_type": "code",
   "execution_count": 297,
   "id": "b14328c9",
   "metadata": {},
   "outputs": [
    {
     "name": "stdout",
     "output_type": "stream",
     "text": [
      "0.8111111111111111\n"
     ]
    }
   ],
   "source": [
    "acc6=max(abacc1,abacc2,abacc3)\n",
    "print(acc6)"
   ]
  },
  {
   "cell_type": "code",
   "execution_count": 298,
   "id": "0034a6fc",
   "metadata": {},
   "outputs": [
    {
     "name": "stdout",
     "output_type": "stream",
     "text": [
      "0.8\n",
      "0.7222222222222222\n",
      "0.8222222222222222\n",
      "0.5888888888888889\n",
      "0.8\n",
      "0.8111111111111111\n"
     ]
    }
   ],
   "source": [
    "print(acc1)\n",
    "print(acc2)\n",
    "print(acc3)\n",
    "print(acc4)\n",
    "print(acc5)\n",
    "print(acc6)"
   ]
  },
  {
   "cell_type": "code",
   "execution_count": 299,
   "id": "32b383a2",
   "metadata": {},
   "outputs": [
    {
     "name": "stdout",
     "output_type": "stream",
     "text": [
      "rf 0.8222222222222222\n"
     ]
    }
   ],
   "source": [
    "bestmodel=max(acc1,acc2,acc3,acc4,acc5)\n",
    "if(bestmodel==acc1):\n",
    "    print(\"lr\",bestmodel)\n",
    "elif(bestmodel==acc2):\n",
    "    print(\"dt\",bestmodel)\n",
    "elif(bestmodel==acc3):\n",
    "    print(\"rf\",bestmodel)\n",
    "elif(bestmodel==acc4):\n",
    "    print(\"knn\",bestmodel)\n",
    "elif(bestmodel==acc6):\n",
    "    print(\"Ada\",bestmodel)\n",
    "else:\n",
    "    print(\"nb\",bestmodel)   "
   ]
  },
  {
   "cell_type": "code",
   "execution_count": 300,
   "id": "e0ffced6",
   "metadata": {},
   "outputs": [
    {
     "data": {
      "image/png": "[encoded data removed]",
      "text/plain": [
       "<Figure size 1000x600 with 1 Axes>"
      ]
     },
     "metadata": {},
     "output_type": "display_data"
    }
   ],
   "source": [
    "splits=['logistic-regression(split 80-20)','logistic-regression(split 75-25)','logistic-regression(split 70-30)',\n",
    "       'decision-tree(split 80-20)','decision-tree(split 75-25)','decision-tree(split 70-30)',\n",
    "        'random-forest(split 80-20)','random-forest(split 75-25)','random-forest(split 70-30)',\n",
    "        'knn(split 80-20)','knn(split 75-25)','knn(split 70-30)',\n",
    "        'naive-bayes(split 80-20)','naive-bayes(split 75-25)','naive-bayes(split 70-30)',\n",
    "       'Ada(split 80-20)','Ada(split 75-25)','Ada(split 70-30)']\n",
    "accuracies=[lracc1,lracc2,lracc3,dtacc1,dtacc2,dtacc3,rfacc1,rfacc2,rfacc3,knacc1,knacc2,knacc3,nbacc1,nbacc2,nbacc3,\n",
    "            abacc1,abacc2,abacc3]\n",
    "plt.figure(figsize=(10, 6))\n",
    "plt.bar(splits, accuracies)\n",
    "plt.ylabel('Accuracy')\n",
    "plt.xticks(rotation=30, ha='right')\n",
    "plt.tight_layout()\n",
    "plt.show()"
   ]
  },
  {
   "cell_type": "code",
   "execution_count": 301,
   "id": "365331fa",
   "metadata": {},
   "outputs": [
    {
     "data": {
      "image/png": "[encoded data removed]",
      "text/plain": [
       "<Figure size 1000x600 with 1 Axes>"
      ]
     },
     "metadata": {},
     "output_type": "display_data"
    }
   ],
   "source": [
    "splits=['logistic-regression','decision-tree','random-forest','knn','naive-bayes','ada boost']\n",
    "accuracies=[acc1,acc2,acc3,acc4,acc5,acc6]\n",
    "plt.figure(figsize=(10, 6))\n",
    "plt.bar(splits, accuracies)\n",
    "plt.ylabel('Accuracy')\n",
    "plt.show()"
   ]
  },
  {
   "cell_type": "markdown",
   "id": "c40889a7",
   "metadata": {},
   "source": [
    "# Pickle"
   ]
  },
  {
   "cell_type": "code",
   "execution_count": 302,
   "id": "0807ec0b",
   "metadata": {},
   "outputs": [],
   "source": [
    "import pickle\n",
    "with open('heart.pkl', 'wb') as file:\n",
    "    pickle.dump(rfmodel3, file)"
   ]
  },
  {
   "cell_type": "code",
   "execution_count": null,
   "id": "143e9fdb",
   "metadata": {},
   "outputs": [],
   "source": []
  }
 ],
 "metadata": {
  "kernelspec": {
   "display_name": "Python 3 (ipykernel)",
   "language": "python",
   "name": "python3"
  },
  "language_info": {
   "codemirror_mode": {
    "name": "ipython",
    "version": 3
   },
   "file_extension": ".py",
   "mimetype": "text/x-python",
   "name": "python",
   "nbconvert_exporter": "python",
   "pygments_lexer": "ipython3",
   "version": "3.11.5"
  }
 },
 "nbformat": 4,
 "nbformat_minor": 5
}
